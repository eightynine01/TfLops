{
 "cells": [
  {
   "cell_type": "code",
   "execution_count": null,
   "metadata": {
    "collapsed": true
   },
   "outputs": [],
   "source": [
    "import os\n",
    "import tensorflow as tf\n",
    "\n",
    "os.environ['TF_CPP_MIN_LOG_LEVEL'] = '2'\n",
    "X = tf.placeholder(tf.float32, [None, 3])\n",
    "print(X)\n",
    "\n",
    "x_data = [[1, 2, 3], [4, 5, 6]]\n",
    "\n",
    "# 3, Scala\n",
    "# [1., 2., 3.] 1 Rank 3 Shape \n",
    "# [[1., 2., 3.,], [4., 5., 6.]] 2 Rank 2 Shape\n",
    "# [[[1., 2., 3.]], [[7., 8., 9.]]] 3 Rank \n",
    "# \n",
    "\n",
    "W = tf.Variable(tf.random_normal([3, 2]))\n",
    "b = tf.Variable(tf.random_normal([2, 1]))\n",
    "\n",
    "expr = tf.matmul(X, W) + b\n",
    "\n",
    "\n",
    "def _run(v):\n",
    "    with tf.Session() as sess:\n",
    "        sess.run(tf.global_variables_initializer())\n",
    "        sess.run(W)\n",
    "        sess.run(b)\n",
    "        sess.run(expr, feed_dict={X: x_data})\n",
    "\n",
    "# print(f'==={x_data}===')\n",
    "# print(f'=== W ===')\n",
    "# print(sess.run(W))\n",
    "# print(f'=== b ===')\n",
    "# print(sess.run(b))\n",
    "# print(f'=== expr ===')\n",
    "# print(sess.run(expr, feed_dict={X: x_data}))\n"
   ]
  }
 ],
 "metadata": {
  "kernelspec": {
   "display_name": "Python 2",
   "language": "python",
   "name": "python2"
  },
  "language_info": {
   "codemirror_mode": {
    "name": "ipython",
    "version": 2
   },
   "file_extension": ".py",
   "mimetype": "text/x-python",
   "name": "python",
   "nbconvert_exporter": "python",
   "pygments_lexer": "ipython2",
   "version": "2.7.6"
  }
 },
 "nbformat": 4,
 "nbformat_minor": 0
}
