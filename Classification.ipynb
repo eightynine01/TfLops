{
 "cells": [
  {
   "cell_type": "code",
   "execution_count": 20,
   "metadata": {
    "collapsed": false
   },
   "outputs": [
    {
     "name": "stdout",
     "output_type": "stream",
     "text": [
      "10 0.94828606\n20 0.9058617\n30 0.88176054\n40 0.8635278\n50 0.8492144\n60 0.8388915\n70 0.8306784\n80 0.82375836\n90 0.8176661\n100 0.81224585\n110 0.8074581\n120 0.8031624\n130 0.7993753\n140 0.79593277\n150 0.7930854\n160 0.789705\n170 0.78743404\n180 0.7845886\n190 0.7830348\n200 0.7803161\n210 0.7784628\n220 0.7765799\n230 0.7750199\n240 0.77338845\n250 0.77201957\n260 0.77059036\n270 0.7694188\n280 0.7681973\n290 0.7670741\n300 0.76605374\n310 0.765019\n320 0.76403123\n"
     ]
    },
    {
     "name": "stdout",
     "output_type": "stream",
     "text": [
      "330 0.7632718\n340 0.7623389\n350 0.761957\n360 0.76069504\n370 0.75996476\n380 0.7593171\n390 0.75887793\n400 0.75850815\n410 0.7574784\n420 0.75686425\n430 0.75660735\n440 0.75580555\n450 0.75536746\n460 0.7548843\n470 0.754741\n480 0.75390625\n490 0.75380653\n500 0.7530435\n510 0.75274634\n520 0.7522796\n530 0.75192744\n540 0.75191647\n550 0.75129104\n560 0.7511518\n570 0.75057673\n580 0.7504638\n590 0.749957\n600 0.74984676\n610 0.7494178\n620 0.7491557\n630 0.7488454\n640 0.74879074\n650 0.74836254\n660 0.7483368\n670 0.74793476\n680 0.7479268\n690 0.7474416\n700 0.74721974\n710 0.74707645\n720 0.7468577\n730 0.7467627\n740 0.74644446\n750 0.74648017\n"
     ]
    },
    {
     "name": "stdout",
     "output_type": "stream",
     "text": [
      "760 0.74606466\n770 0.74588805\n780 0.74571735\n790 0.74555475\n800 0.74561256\n810 0.7452452\n820 0.7451019\n830 0.74496263\n840 0.7448141\n850 0.74460274\n860 0.74457794\n870 0.7443614\n880 0.7442937\n890 0.74413896\n900 0.7439404\n910 0.7440316\n920 0.7437446\n930 0.743562\n940 0.7436587\n950 0.7433894\n960 0.7432204\n970 0.74315214\n980 0.7430691\n990 0.74291235\n1000 0.74276084\n"
     ]
    }
   ],
   "source": [
    "import tensorflow as tf\n",
    "import numpy as np\n",
    "\n",
    "x_data = np.array([[0, 0], [1, 0], [1, 1], [0, 0], [0, 0], [0, 1]])\n",
    "y_data = np.array([\n",
    "    [1, 0, 0],\n",
    "    [0, 1, 0],\n",
    "    [0, 0, 1],\n",
    "    [1, 0, 0],\n",
    "    [1, 0, 0],\n",
    "    [0, 0, 1],\n",
    "])\n",
    "\n",
    "X = tf.placeholder(tf.float32)\n",
    "Y = tf.placeholder(tf.float32)\n",
    "\n",
    "W = tf.Variable(tf.random_uniform([2, 3], -1., 1.))\n",
    "b = tf.Variable(tf.zeros([3]))\n",
    "\n",
    "L = tf.add(tf.matmul(X, W), b)\n",
    "L = tf.nn.relu(L)\n",
    "\n",
    "model = tf.nn.softmax(L)\n",
    "cost = tf.reduce_mean(-tf.reduce_sum(Y * tf.log(model), axis=1))\n",
    "\n",
    "optimizer = tf.train.GradientDescentOptimizer(learning_rate=0.1)\n",
    "train_op = optimizer.minimize(cost)\n",
    "\n",
    "init = tf.global_variables_initializer()\n",
    "sess = tf.Session()\n",
    "sess.run(init)\n",
    "\n",
    "for step in range(1000):\n",
    "    sess.run(train_op, feed_dict={X: x_data, Y: y_data})\n",
    "    if (step + 1) % 10 == 0:\n",
    "        print(step + 1, sess.run(cost, feed_dict={X: x_data, Y: y_data}))"
   ]
  },
  {
   "cell_type": "code",
   "execution_count": 21,
   "metadata": {},
   "outputs": [
    {
     "name": "stdout",
     "output_type": "stream",
     "text": [
      "예측값: [0 0 2 0 0 2]\n실제값: [0 1 2 0 0 2]\n"
     ]
    }
   ],
   "source": [
    "prediction = tf.argmax(model, axis=1)\n",
    "target = tf.argmax(Y, axis=1)\n",
    "print('예측값:', sess.run(prediction, feed_dict={X: x_data}))\n",
    "print('실제값:', sess.run(target, feed_dict={Y: y_data}))"
   ]
  },
  {
   "cell_type": "code",
   "execution_count": 22,
   "metadata": {},
   "outputs": [
    {
     "name": "stdout",
     "output_type": "stream",
     "text": [
      "정확도 83.33\n"
     ]
    }
   ],
   "source": [
    "is_correct = tf.equal(prediction, target)\n",
    "accuracy = tf.reduce_mean(tf.cast(is_correct, tf.float32))\n",
    "print(f'정확도 %.2f' % sess.run(accuracy * 100, feed_dict={X: x_data, Y: y_data}))"
   ]
  },
  {
   "cell_type": "code",
   "execution_count": null,
   "metadata": {},
   "outputs": [],
   "source": []
  }
 ],
 "metadata": {
  "kernelspec": {
   "display_name": "Python 2",
   "language": "python",
   "name": "python2"
  },
  "language_info": {
   "codemirror_mode": {
    "name": "ipython",
    "version": 2
   },
   "file_extension": ".py",
   "mimetype": "text/x-python",
   "name": "python",
   "nbconvert_exporter": "python",
   "pygments_lexer": "ipython2",
   "version": "2.7.6"
  }
 },
 "nbformat": 4,
 "nbformat_minor": 0
}
